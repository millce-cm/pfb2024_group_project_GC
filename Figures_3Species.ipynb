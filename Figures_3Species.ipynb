{
 "cells": [
  {
   "cell_type": "markdown",
   "id": "028e1098-4373-4856-a97d-8db1f9bba57c",
   "metadata": {},
   "source": [
    "# Notebook #2: Comparing GC content across three species:\n",
    "# 1. Human\n",
    "# 2. Mouse (Mus musculus)\n",
    "# 3. Blue whale (Balaenoptera musculus)"
   ]
  },
  {
   "cell_type": "markdown",
   "id": "03049719-97cb-44ef-b9e0-d6ea0b8436a4",
   "metadata": {},
   "source": [
    "# Part I: Load in the data"
   ]
  },
  {
   "cell_type": "raw",
   "id": "f0bf308c-db18-45c1-b0b0-360ab9d364df",
   "metadata": {},
   "source": [
    "IMPORTS:\n",
    "i. Pickle- load the dictionary\n",
    "ii. Pandas- make dataframes\n",
    "iii. Matplotlib- create graphs\n",
    "iv. Seaborn- color palettes"
   ]
  },
  {
   "cell_type": "code",
   "execution_count": 73,
   "id": "ca821c7b-41cf-4441-815f-95ecab40df05",
   "metadata": {},
   "outputs": [
    {
     "name": "stderr",
     "output_type": "stream",
     "text": [
      "python(58743) MallocStackLogging: can't turn off malloc stack logging because it was not enabled.\n"
     ]
    },
    {
     "name": "stdout",
     "output_type": "stream",
     "text": [
      "Requirement already satisfied: seaborn in /Users/pfb2024/Library/jupyterlab-desktop/jlab_server/lib/python3.12/site-packages (0.13.2)\n",
      "Requirement already satisfied: numpy!=1.24.0,>=1.20 in /Users/pfb2024/Library/jupyterlab-desktop/jlab_server/lib/python3.12/site-packages (from seaborn) (2.1.0)\n",
      "Requirement already satisfied: pandas>=1.2 in /Users/pfb2024/Library/jupyterlab-desktop/jlab_server/lib/python3.12/site-packages (from seaborn) (2.2.2)\n",
      "Requirement already satisfied: matplotlib!=3.6.1,>=3.4 in /Users/pfb2024/Library/jupyterlab-desktop/jlab_server/lib/python3.12/site-packages (from seaborn) (3.9.2)\n",
      "Requirement already satisfied: contourpy>=1.0.1 in /Users/pfb2024/Library/jupyterlab-desktop/jlab_server/lib/python3.12/site-packages (from matplotlib!=3.6.1,>=3.4->seaborn) (1.2.1)\n",
      "Requirement already satisfied: cycler>=0.10 in /Users/pfb2024/Library/jupyterlab-desktop/jlab_server/lib/python3.12/site-packages (from matplotlib!=3.6.1,>=3.4->seaborn) (0.12.1)\n",
      "Requirement already satisfied: fonttools>=4.22.0 in /Users/pfb2024/Library/jupyterlab-desktop/jlab_server/lib/python3.12/site-packages (from matplotlib!=3.6.1,>=3.4->seaborn) (4.53.1)\n",
      "Requirement already satisfied: kiwisolver>=1.3.1 in /Users/pfb2024/Library/jupyterlab-desktop/jlab_server/lib/python3.12/site-packages (from matplotlib!=3.6.1,>=3.4->seaborn) (1.4.5)\n",
      "Requirement already satisfied: packaging>=20.0 in /Users/pfb2024/Library/jupyterlab-desktop/jlab_server/lib/python3.12/site-packages (from matplotlib!=3.6.1,>=3.4->seaborn) (24.1)\n",
      "Requirement already satisfied: pillow>=8 in /Users/pfb2024/Library/jupyterlab-desktop/jlab_server/lib/python3.12/site-packages (from matplotlib!=3.6.1,>=3.4->seaborn) (10.4.0)\n",
      "Requirement already satisfied: pyparsing>=2.3.1 in /Users/pfb2024/Library/jupyterlab-desktop/jlab_server/lib/python3.12/site-packages (from matplotlib!=3.6.1,>=3.4->seaborn) (3.1.4)\n",
      "Requirement already satisfied: python-dateutil>=2.7 in /Users/pfb2024/Library/jupyterlab-desktop/jlab_server/lib/python3.12/site-packages (from matplotlib!=3.6.1,>=3.4->seaborn) (2.9.0)\n",
      "Requirement already satisfied: pytz>=2020.1 in /Users/pfb2024/Library/jupyterlab-desktop/jlab_server/lib/python3.12/site-packages (from pandas>=1.2->seaborn) (2024.1)\n",
      "Requirement already satisfied: tzdata>=2022.7 in /Users/pfb2024/Library/jupyterlab-desktop/jlab_server/lib/python3.12/site-packages (from pandas>=1.2->seaborn) (2024.1)\n",
      "Requirement already satisfied: six>=1.5 in /Users/pfb2024/Library/jupyterlab-desktop/jlab_server/lib/python3.12/site-packages (from python-dateutil>=2.7->matplotlib!=3.6.1,>=3.4->seaborn) (1.16.0)\n"
     ]
    }
   ],
   "source": [
    "import pickle \n",
    "import pandas as pd \n",
    "import matplotlib.pyplot as plt\n",
    "!pip install seaborn\n",
    "import seaborn as sns"
   ]
  },
  {
   "cell_type": "code",
   "execution_count": 61,
   "id": "698b7010-3292-43d9-a389-65267d0416ee",
   "metadata": {},
   "outputs": [],
   "source": [
    "#Load in the genomes:\n",
    "Whole_Genome_Human = pickle.load(open(\"output_whole_genome_2.p\", \"rb\"))\n",
    "CDS_Genome_Human = pickle.load(open(\"output_coding_genome_2.p\", \"rb\"))\n",
    "\n",
    "Whole_Genome_Whale = pickle.load(open(\"output_whole_genome_whale.p\", \"rb\"))\n",
    "CDS_Genome_Whale = pickle.load(open(\"output_coding_genome_2_whale.p\", \"rb\"))\n",
    "\n",
    "Whole_Genome_Mouse = pickle.load(open(\"output_whole_genome_mouse.p\", \"rb\"))\n",
    "CDS_Genome_Mouse = pickle.load(open(\"output_coding_genome_2_mouse.p\", \"rb\"))"
   ]
  },
  {
   "cell_type": "markdown",
   "id": "205673e8-63bb-4406-a1b9-306840fa4c20",
   "metadata": {},
   "source": [
    "# Part II: Create DataFrames from our dictionaries:"
   ]
  },
  {
   "cell_type": "code",
   "execution_count": 62,
   "id": "cc43bfe7-ede0-4c67-b1f9-a3662fdc0394",
   "metadata": {},
   "outputs": [],
   "source": [
    "# Whole Genome:\n",
    "WholeHuman_df = pd.DataFrame(Whole_Genome_Human)\n",
    "WholeWhale_df = pd.DataFrame(Whole_Genome_Whale)\n",
    "WholeMouse_df = pd.DataFrame(Whole_Genome_Mouse)\n",
    "\n",
    "# Coding Genome:\n",
    "CodHuman_df = pd.DataFrame(CDS_Genome_Human)\n",
    "CodWhale_df = pd.DataFrame(CDS_Genome_Whale)\n",
    "CodMouse_df = pd.DataFrame(CDS_Genome_Mouse)"
   ]
  },
  {
   "cell_type": "code",
   "execution_count": 63,
   "id": "1dab7b03-8ab0-44d1-8b98-af010b1eb18b",
   "metadata": {},
   "outputs": [],
   "source": [
    "## Transpose from wide to long: \n",
    "WholeHuman_df_Long = WholeHuman_df.transpose()\n",
    "WholeWhale_df_Long = WholeWhale_df.transpose()\n",
    "WholeMouse_df_Long = WholeMouse_df.transpose()\n",
    "\n",
    "CodHuman_df_Long = CodHuman_df.transpose()\n",
    "CodWhale_df_Long = CodWhale_df.transpose()\n",
    "CodMouse_df_Long = CodMouse_df.transpose()"
   ]
  },
  {
   "cell_type": "markdown",
   "id": "031fcff8-4bd5-4128-8662-ddfed5435661",
   "metadata": {},
   "source": [
    "# Part III: Order the values based on chromosome #"
   ]
  },
  {
   "cell_type": "code",
   "execution_count": 64,
   "id": "ccefdcba-34fa-4499-a547-015be91196f3",
   "metadata": {},
   "outputs": [],
   "source": [
    "custom_order = [str(i) for i in range(1, 23)] + ['X', 'Y']"
   ]
  },
  {
   "cell_type": "code",
   "execution_count": 65,
   "id": "4ccf1c77-8d20-4f6b-82c5-119bbee7f2cd",
   "metadata": {},
   "outputs": [],
   "source": [
    "# Reset the index and create a new column\n",
    "WholeHuman_df_Long.reset_index(inplace=True)\n",
    "WholeWhale_df_Long.reset_index(inplace=True)\n",
    "WholeMouse_df_Long.reset_index(inplace=True)\n",
    "CodHuman_df_Long.reset_index(inplace=True)\n",
    "CodWhale_df_Long.reset_index(inplace=True)\n",
    "CodMouse_df_Long.reset_index(inplace=True)"
   ]
  },
  {
   "cell_type": "code",
   "execution_count": 66,
   "id": "eda66ecd-0acd-4b35-9461-b8d5b96c22d8",
   "metadata": {},
   "outputs": [],
   "source": [
    "# Now, rename the new first column (which was the index)\n",
    "WholeHuman_df_Long.rename(columns={'index': 'Chromosome'}, inplace=True)\n",
    "WholeWhale_df_Long.rename(columns={'index': 'Chromosome'}, inplace=True)\n",
    "WholeMouse_df_Long.rename(columns={'index': 'Chromosome'}, inplace=True)\n",
    "CodHuman_df_Long.rename(columns={'index': 'Chromosome'}, inplace=True)\n",
    "CodWhale_df_Long.rename(columns={'index': 'Chromosome'}, inplace=True)\n",
    "CodMouse_df_Long.rename(columns={'index': 'Chromosome'}, inplace=True)"
   ]
  },
  {
   "cell_type": "markdown",
   "id": "722ef05a-26a9-4ef6-9836-5e5b3e8f24c0",
   "metadata": {},
   "source": [
    "# Part IV: Sort the DataFrames by chromosome"
   ]
  },
  {
   "cell_type": "markdown",
   "id": "5d45c4f1-ab4a-4704-b1a5-9b9dc96f848a",
   "metadata": {},
   "source": [
    "# Make new column name"
   ]
  },
  {
   "cell_type": "code",
   "execution_count": 67,
   "id": "bd215ede-0570-42c0-b8bd-adcf643cd640",
   "metadata": {},
   "outputs": [],
   "source": [
    "WholeHuman_df_Long['Chromosome'] = pd.Categorical(WholeHuman_df_Long['Chromosome'], categories=custom_order, ordered=True)\n",
    "WholeWhale_df_Long['Chromosome'] = pd.Categorical(WholeWhale_df_Long['Chromosome'], categories=custom_order, ordered=True)\n",
    "WholeMouse_df_Long['Chromosome'] = pd.Categorical(WholeMouse_df_Long['Chromosome'], categories=custom_order, ordered=True)\n",
    "CodHuman_df_Long['Chromosome'] = pd.Categorical(CodHuman_df_Long['Chromosome'], categories=custom_order, ordered=True)\n",
    "CodWhale_df_Long['Chromosome'] = pd.Categorical(CodWhale_df_Long['Chromosome'], categories=custom_order, ordered=True)\n",
    "CodMouse_df_Long['Chromosome'] = pd.Categorical(CodMouse_df_Long['Chromosome'], categories=custom_order, ordered=True)"
   ]
  },
  {
   "cell_type": "markdown",
   "id": "a7c5ae22-1ad0-4c86-8b41-25f3078c36e3",
   "metadata": {},
   "source": [
    "# Sort by chromosome"
   ]
  },
  {
   "cell_type": "code",
   "execution_count": 68,
   "id": "6942865e-93e8-4a90-bb39-70538fdde0a9",
   "metadata": {},
   "outputs": [],
   "source": [
    "# Sort the DataFrame by the categorical column\n",
    "WholeHuman_df_Long_Sorted = WholeHuman_df_Long.sort_values('Chromosome')\n",
    "WholeWhale_df_Long_Sorted = WholeWhale_df_Long.sort_values('Chromosome')\n",
    "WholeMouse_df_Long_Sorted = WholeMouse_df_Long.sort_values('Chromosome')\n",
    "\n",
    "CodHuman_df_Long_Sorted = CodHuman_df_Long.sort_values('Chromosome')\n",
    "CodWhale_df_Long_Sorted = CodWhale_df_Long.sort_values('Chromosome')\n",
    "CodMouse_df_Long_Sorted = CodMouse_df_Long.sort_values('Chromosome')"
   ]
  },
  {
   "cell_type": "code",
   "execution_count": 69,
   "id": "cd8e2142-a277-4593-a66e-cebff7c372b6",
   "metadata": {},
   "outputs": [
    {
     "data": {
      "text/html": [
       "<div>\n",
       "<style scoped>\n",
       "    .dataframe tbody tr th:only-of-type {\n",
       "        vertical-align: middle;\n",
       "    }\n",
       "\n",
       "    .dataframe tbody tr th {\n",
       "        vertical-align: top;\n",
       "    }\n",
       "\n",
       "    .dataframe thead th {\n",
       "        text-align: right;\n",
       "    }\n",
       "</style>\n",
       "<table border=\"1\" class=\"dataframe\">\n",
       "  <thead>\n",
       "    <tr style=\"text-align: right;\">\n",
       "      <th></th>\n",
       "      <th>Chromosome</th>\n",
       "      <th>length_all</th>\n",
       "      <th>length_non</th>\n",
       "      <th>GC_count</th>\n",
       "      <th>GC_content_all</th>\n",
       "      <th>GC_content_non</th>\n",
       "    </tr>\n",
       "  </thead>\n",
       "  <tbody>\n",
       "    <tr>\n",
       "      <th>0</th>\n",
       "      <td>1</td>\n",
       "      <td>195154279.0</td>\n",
       "      <td>191954033.0</td>\n",
       "      <td>78981540.0</td>\n",
       "      <td>0.404713</td>\n",
       "      <td>0.411461</td>\n",
       "    </tr>\n",
       "    <tr>\n",
       "      <th>11</th>\n",
       "      <td>2</td>\n",
       "      <td>181755017.0</td>\n",
       "      <td>178354017.0</td>\n",
       "      <td>75058694.0</td>\n",
       "      <td>0.412966</td>\n",
       "      <td>0.420841</td>\n",
       "    </tr>\n",
       "    <tr>\n",
       "      <th>12</th>\n",
       "      <td>3</td>\n",
       "      <td>159745316.0</td>\n",
       "      <td>156538176.0</td>\n",
       "      <td>63322388.0</td>\n",
       "      <td>0.396396</td>\n",
       "      <td>0.404517</td>\n",
       "    </tr>\n",
       "    <tr>\n",
       "      <th>13</th>\n",
       "      <td>4</td>\n",
       "      <td>156860686.0</td>\n",
       "      <td>152709788.0</td>\n",
       "      <td>64572955.0</td>\n",
       "      <td>0.411658</td>\n",
       "      <td>0.422848</td>\n",
       "    </tr>\n",
       "    <tr>\n",
       "      <th>14</th>\n",
       "      <td>5</td>\n",
       "      <td>151758149.0</td>\n",
       "      <td>148006149.0</td>\n",
       "      <td>62954932.0</td>\n",
       "      <td>0.414837</td>\n",
       "      <td>0.425353</td>\n",
       "    </tr>\n",
       "    <tr>\n",
       "      <th>15</th>\n",
       "      <td>6</td>\n",
       "      <td>149588044.0</td>\n",
       "      <td>146383041.0</td>\n",
       "      <td>60627727.0</td>\n",
       "      <td>0.405298</td>\n",
       "      <td>0.414172</td>\n",
       "    </tr>\n",
       "    <tr>\n",
       "      <th>16</th>\n",
       "      <td>7</td>\n",
       "      <td>144995196.0</td>\n",
       "      <td>141674695.0</td>\n",
       "      <td>61008888.0</td>\n",
       "      <td>0.420765</td>\n",
       "      <td>0.430627</td>\n",
       "    </tr>\n",
       "    <tr>\n",
       "      <th>17</th>\n",
       "      <td>8</td>\n",
       "      <td>130127694.0</td>\n",
       "      <td>125677394.0</td>\n",
       "      <td>53250005.0</td>\n",
       "      <td>0.409213</td>\n",
       "      <td>0.423704</td>\n",
       "    </tr>\n",
       "    <tr>\n",
       "      <th>18</th>\n",
       "      <td>9</td>\n",
       "      <td>124359700.0</td>\n",
       "      <td>121184854.0</td>\n",
       "      <td>51753224.0</td>\n",
       "      <td>0.416158</td>\n",
       "      <td>0.427060</td>\n",
       "    </tr>\n",
       "    <tr>\n",
       "      <th>1</th>\n",
       "      <td>10</td>\n",
       "      <td>130530862.0</td>\n",
       "      <td>127155760.0</td>\n",
       "      <td>52647376.0</td>\n",
       "      <td>0.403333</td>\n",
       "      <td>0.414038</td>\n",
       "    </tr>\n",
       "    <tr>\n",
       "      <th>2</th>\n",
       "      <td>11</td>\n",
       "      <td>121973369.0</td>\n",
       "      <td>118822369.0</td>\n",
       "      <td>52053197.0</td>\n",
       "      <td>0.426759</td>\n",
       "      <td>0.438076</td>\n",
       "    </tr>\n",
       "    <tr>\n",
       "      <th>3</th>\n",
       "      <td>12</td>\n",
       "      <td>120092757.0</td>\n",
       "      <td>116922755.0</td>\n",
       "      <td>48799170.0</td>\n",
       "      <td>0.406346</td>\n",
       "      <td>0.417362</td>\n",
       "    </tr>\n",
       "    <tr>\n",
       "      <th>4</th>\n",
       "      <td>13</td>\n",
       "      <td>120883175.0</td>\n",
       "      <td>117256175.0</td>\n",
       "      <td>48803151.0</td>\n",
       "      <td>0.403722</td>\n",
       "      <td>0.416210</td>\n",
       "    </tr>\n",
       "    <tr>\n",
       "      <th>5</th>\n",
       "      <td>14</td>\n",
       "      <td>125139656.0</td>\n",
       "      <td>121174153.0</td>\n",
       "      <td>49863118.0</td>\n",
       "      <td>0.398460</td>\n",
       "      <td>0.411500</td>\n",
       "    </tr>\n",
       "    <tr>\n",
       "      <th>6</th>\n",
       "      <td>15</td>\n",
       "      <td>104073951.0</td>\n",
       "      <td>100923951.0</td>\n",
       "      <td>42349254.0</td>\n",
       "      <td>0.406915</td>\n",
       "      <td>0.419615</td>\n",
       "    </tr>\n",
       "    <tr>\n",
       "      <th>7</th>\n",
       "      <td>16</td>\n",
       "      <td>98008968.0</td>\n",
       "      <td>94850959.0</td>\n",
       "      <td>38833003.0</td>\n",
       "      <td>0.396219</td>\n",
       "      <td>0.409411</td>\n",
       "    </tr>\n",
       "    <tr>\n",
       "      <th>8</th>\n",
       "      <td>17</td>\n",
       "      <td>95294699.0</td>\n",
       "      <td>91815497.0</td>\n",
       "      <td>39203969.0</td>\n",
       "      <td>0.411397</td>\n",
       "      <td>0.426986</td>\n",
       "    </tr>\n",
       "    <tr>\n",
       "      <th>9</th>\n",
       "      <td>18</td>\n",
       "      <td>90720763.0</td>\n",
       "      <td>87605758.0</td>\n",
       "      <td>36305111.0</td>\n",
       "      <td>0.400185</td>\n",
       "      <td>0.414415</td>\n",
       "    </tr>\n",
       "    <tr>\n",
       "      <th>10</th>\n",
       "      <td>19</td>\n",
       "      <td>61420004.0</td>\n",
       "      <td>58220004.0</td>\n",
       "      <td>24877121.0</td>\n",
       "      <td>0.405033</td>\n",
       "      <td>0.427295</td>\n",
       "    </tr>\n",
       "    <tr>\n",
       "      <th>19</th>\n",
       "      <td>X</td>\n",
       "      <td>169476592.0</td>\n",
       "      <td>164206321.0</td>\n",
       "      <td>64479649.0</td>\n",
       "      <td>0.380463</td>\n",
       "      <td>0.392675</td>\n",
       "    </tr>\n",
       "    <tr>\n",
       "      <th>20</th>\n",
       "      <td>Y</td>\n",
       "      <td>91455967.0</td>\n",
       "      <td>88485967.0</td>\n",
       "      <td>34406054.0</td>\n",
       "      <td>0.376203</td>\n",
       "      <td>0.388831</td>\n",
       "    </tr>\n",
       "  </tbody>\n",
       "</table>\n",
       "</div>"
      ],
      "text/plain": [
       "   Chromosome   length_all   length_non    GC_count  GC_content_all  \\\n",
       "0           1  195154279.0  191954033.0  78981540.0        0.404713   \n",
       "11          2  181755017.0  178354017.0  75058694.0        0.412966   \n",
       "12          3  159745316.0  156538176.0  63322388.0        0.396396   \n",
       "13          4  156860686.0  152709788.0  64572955.0        0.411658   \n",
       "14          5  151758149.0  148006149.0  62954932.0        0.414837   \n",
       "15          6  149588044.0  146383041.0  60627727.0        0.405298   \n",
       "16          7  144995196.0  141674695.0  61008888.0        0.420765   \n",
       "17          8  130127694.0  125677394.0  53250005.0        0.409213   \n",
       "18          9  124359700.0  121184854.0  51753224.0        0.416158   \n",
       "1          10  130530862.0  127155760.0  52647376.0        0.403333   \n",
       "2          11  121973369.0  118822369.0  52053197.0        0.426759   \n",
       "3          12  120092757.0  116922755.0  48799170.0        0.406346   \n",
       "4          13  120883175.0  117256175.0  48803151.0        0.403722   \n",
       "5          14  125139656.0  121174153.0  49863118.0        0.398460   \n",
       "6          15  104073951.0  100923951.0  42349254.0        0.406915   \n",
       "7          16   98008968.0   94850959.0  38833003.0        0.396219   \n",
       "8          17   95294699.0   91815497.0  39203969.0        0.411397   \n",
       "9          18   90720763.0   87605758.0  36305111.0        0.400185   \n",
       "10         19   61420004.0   58220004.0  24877121.0        0.405033   \n",
       "19          X  169476592.0  164206321.0  64479649.0        0.380463   \n",
       "20          Y   91455967.0   88485967.0  34406054.0        0.376203   \n",
       "\n",
       "    GC_content_non  \n",
       "0         0.411461  \n",
       "11        0.420841  \n",
       "12        0.404517  \n",
       "13        0.422848  \n",
       "14        0.425353  \n",
       "15        0.414172  \n",
       "16        0.430627  \n",
       "17        0.423704  \n",
       "18        0.427060  \n",
       "1         0.414038  \n",
       "2         0.438076  \n",
       "3         0.417362  \n",
       "4         0.416210  \n",
       "5         0.411500  \n",
       "6         0.419615  \n",
       "7         0.409411  \n",
       "8         0.426986  \n",
       "9         0.414415  \n",
       "10        0.427295  \n",
       "19        0.392675  \n",
       "20        0.388831  "
      ]
     },
     "execution_count": 69,
     "metadata": {},
     "output_type": "execute_result"
    }
   ],
   "source": [
    "## Example of the final, sorted dataframes:\n",
    "WholeMouse_df_Long_Sorted"
   ]
  },
  {
   "cell_type": "markdown",
   "id": "62ba6ebd-879e-4ca5-aea4-8d35c4b261f4",
   "metadata": {},
   "source": [
    "# Part V: Calculate the average GC content across all chromosomes"
   ]
  },
  {
   "cell_type": "code",
   "execution_count": 70,
   "id": "8641e5cc-beec-4366-b36c-3d0bd90e9893",
   "metadata": {},
   "outputs": [],
   "source": [
    "#Create the average values\n",
    "#HUMAN\n",
    "WholeHuman_df_Long_Sorted_All_Mean = WholeHuman_df_Long_Sorted['GC_content_all'].mean()\n",
    "WholeHuman_df_Long_Sorted_NoN_Mean = WholeHuman_df_Long_Sorted['GC_content_non'].mean()\n",
    "CodHuman_df_Long_Sorted_All_Mean = CodHuman_df_Long_Sorted['GC_content_all'].mean()\n",
    "CodHuman_df_Long_Sorted_NoN_Mean = CodHuman_df_Long_Sorted['GC_content_non'].mean()\n",
    "\n",
    "#WHALE\n",
    "WholeWhale_df_Long_Sorted_All_Mean = WholeWhale_df_Long_Sorted['GC_content_all'].mean()\n",
    "WholeWhale_df_Long_Sorted_NoN_Mean = WholeWhale_df_Long_Sorted['GC_content_non'].mean()\n",
    "CodWhale_df_Long_Sorted_All_Mean = CodWhale_df_Long_Sorted['GC_content_all'].mean()\n",
    "CodWhale_df_Long_Sorted_NoN_Mean = CodWhale_df_Long_Sorted['GC_content_non'].mean()\n",
    "\n",
    "#MOUSE\n",
    "WholeMouse_df_Long_Sorted_All_Mean = WholeMouse_df_Long_Sorted['GC_content_all'].mean()\n",
    "WholeMouse_df_Long_Sorted_NoN_Mean = WholeMouse_df_Long_Sorted['GC_content_non'].mean()\n",
    "CodMouse_df_Long_Sorted_All_Mean = CodMouse_df_Long_Sorted['GC_content_all'].mean()\n",
    "CodMouse_df_Long_Sorted_NoN_Mean = CodMouse_df_Long_Sorted['GC_content_non'].mean()"
   ]
  },
  {
   "cell_type": "code",
   "execution_count": 71,
   "id": "9f6d937e-7a94-4961-b647-9ba9a517966b",
   "metadata": {},
   "outputs": [
    {
     "data": {
      "text/plain": [
       "np.float64(0.38484139537691947)"
      ]
     },
     "execution_count": 71,
     "metadata": {},
     "output_type": "execute_result"
    }
   ],
   "source": [
    "WholeHuman_df_Long_Sorted_All_Mean"
   ]
  },
  {
   "cell_type": "markdown",
   "id": "102a8b6a-d7d3-47ee-bfae-f293d8e0191c",
   "metadata": {},
   "source": [
    "# Part VI: Visually compare GC content in the whole genome across species"
   ]
  },
  {
   "cell_type": "markdown",
   "id": "1cd2277b-3446-46f2-a701-64e1fdab54f2",
   "metadata": {},
   "source": [
    "# Make panel graphs"
   ]
  },
  {
   "cell_type": "code",
   "execution_count": 72,
   "id": "22c15ed3-04f4-471a-b788-3bb8947fb5f9",
   "metadata": {},
   "outputs": [
    {
     "data": {
      "image/png": "[encoded data removed]",
      "text/plain": [
       "<Figure size 1600x800 with 4 Axes>"
      ]
     },
     "metadata": {},
     "output_type": "display_data"
    }
   ],
   "source": [
    "# Create a figure\n",
    "#fig, ax = plt.subplots(figsize=(5, 5))\n",
    "\n",
    "# Bar width:\n",
    "bar_width = 0.5\n",
    "\n",
    "# Data to be used:\n",
    "x = ['Human', 'Whale', 'Mouse'] ##Categories\n",
    "# Average bar heights (defined above):\n",
    "average_values_all = [WholeHuman_df_Long_Sorted_All_Mean, WholeWhale_df_Long_Sorted_All_Mean, WholeMouse_df_Long_Sorted_All_Mean]\n",
    "average_values_NoN = [WholeHuman_df_Long_Sorted_NoN_Mean, WholeWhale_df_Long_Sorted_NoN_Mean, WholeMouse_df_Long_Sorted_NoN_Mean]\n",
    "cod_average_all = [CodHuman_df_Long_Sorted_All_Mean, CodHuman_df_Long_Sorted_All_Mean, CodMouse_df_Long_Sorted_All_Mean]\n",
    "cod_average_NoN = [CodHuman_df_Long_Sorted_NoN_Mean, CodWhale_df_Long_Sorted_NoN_Mean, CodMouse_df_Long_Sorted_NoN_Mean]\n",
    "\n",
    "# Create the figure with a specified size:\n",
    "fig, axes = plt.subplots(2, 2, figsize=(16,8))  # Adjust width and height as needed\n",
    "\n",
    "# Use Seaborn to create a color palette:\n",
    "palette1 = sns.color_palette(\"magma\", n_colors=len(average_values))\n",
    "palette2 = sns.color_palette(\"GnBu\", n_colors=len(average_values))\n",
    "#Create the bar graphs separately:\n",
    "\n",
    "axes[0,0].bar(x, average_values_all, color = palette1)\n",
    "axes[0,0].set_title(\"Figure 1A. GC Content in the Whole Genome (with N) Across Three Species\")\n",
    "axes[0,0].set_ylabel('GC Content')\n",
    "axes[0,0].set_ylim(0, 0.6)\n",
    "\n",
    "axes[0,1].bar(x, average_values_NoN, color = palette1)\n",
    "axes[0,1].set_title(\"Figure 1B. GC Content in the Whole Genome (with No N) Across Three Species\")\n",
    "axes[0,1].set_ylabel('GC Content')\n",
    "axes[0,1].set_ylim(0, 0.6)\n",
    "\n",
    "axes[1,0].bar(x, cod_average_all, color = palette2)\n",
    "axes[1,0].set_title(\"Figure 1C. GC Content in the Coding Genome (with N) Across Three Species\")\n",
    "axes[1,0].set_ylabel('GC Content')\n",
    "axes[1,0].set_ylim(0, 0.6)\n",
    "\n",
    "axes[1,1].bar(x, cod_average_NoN, color = palette2)\n",
    "axes[1,1].set_title(\"Figure 1D. GC Content in the Coding Genome (with No N) Across Three Species\")\n",
    "axes[1,1].set_ylabel('GC Content')\n",
    "axes[1,1].set_ylim(0, 0.6)\n",
    "\n",
    "\n",
    "# Show the plot:\n",
    "plt.tight_layout()\n",
    "plt.show()"
   ]
  },
  {
   "cell_type": "markdown",
   "id": "ae81d5d2-67f3-47cb-97c9-da7b015c316b",
   "metadata": {},
   "source": [
    "# Next steps:\n",
    "# 1. Statistical comparisons across species\n",
    "# 2. Add error bars to the graphs\n",
    "# 3. Exlpore amino acid content across species"
   ]
  }
 ],
 "metadata": {
  "kernelspec": {
   "display_name": "Python 3 (ipykernel)",
   "language": "python",
   "name": "python3"
  },
  "language_info": {
   "codemirror_mode": {
    "name": "ipython",
    "version": 3
   },
   "file_extension": ".py",
   "mimetype": "text/x-python",
   "name": "python",
   "nbconvert_exporter": "python",
   "pygments_lexer": "ipython3",
   "version": "3.12.5"
  }
 },
 "nbformat": 4,
 "nbformat_minor": 5
}
